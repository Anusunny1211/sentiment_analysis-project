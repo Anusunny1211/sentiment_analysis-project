{
  "nbformat": 4,
  "nbformat_minor": 0,
  "metadata": {
    "colab": {
      "provenance": [],
      "toc_visible": true
    },
    "kernelspec": {
      "name": "python3",
      "display_name": "Python 3"
    },
    "language_info": {
      "name": "python"
    }
  },
  "cells": [
    {
      "cell_type": "code",
      "execution_count": null,
      "metadata": {
        "colab": {
          "base_uri": "https://localhost:8080/"
        },
        "id": "jfFHz1oozMgh",
        "outputId": "e49e1247-aaa9-41f9-f2d7-997089c2b61b"
      },
      "outputs": [
        {
          "output_type": "stream",
          "name": "stdout",
          "text": [
            "Mounted at /content/drive\n"
          ]
        }
      ],
      "source": [
        "from google.colab import drive\n",
        "drive.mount('/content/drive')"
      ]
    },
    {
      "cell_type": "code",
      "source": [
        "import pandas as pd\n",
        "\n",
        "\n",
        "# Load your dataset with the help of pandas library\n",
        "data = pd.read_csv('/content/drive/MyDrive/dataset/Restaurant_Reviews.tsv' ,delimiter='\\t',quoting=3)"
      ],
      "metadata": {
        "id": "8cXhfR2_zc8n"
      },
      "execution_count": null,
      "outputs": []
    },
    {
      "cell_type": "code",
      "source": [
        "#Natural Language Processing with help of nltk we remove the stopwords.\n",
        "import nltk\n",
        "import re\n",
        "nltk.download('stopwords')\n",
        "from nltk.corpus import stopwords\n",
        "from nltk.stem.porter import PorterStemmer\n",
        "corpus=[]\n",
        "for i in range(0,1000):\n",
        "  review=re.sub(pattern='[^a-zA-Z]',repl=' ',string=data['Review'][i])\n",
        "  review = review.lower()\n",
        "  review_words = review.split()\n",
        "  review_words=[word for word in review_words if not word in set(stopwords.words('english'))]\n",
        "  ps = PorterStemmer()\n",
        "  review=[ps.stem(word) for word in review_words]\n",
        "  review=' '.join(review)\n",
        "  corpus.append(review)"
      ],
      "metadata": {
        "colab": {
          "base_uri": "https://localhost:8080/"
        },
        "id": "BHOIJftGzdkU",
        "outputId": "aa1d11a4-efee-4bec-b7e4-e679c7d908d4"
      },
      "execution_count": null,
      "outputs": [
        {
          "output_type": "stream",
          "name": "stderr",
          "text": [
            "[nltk_data] Downloading package stopwords to /root/nltk_data...\n",
            "[nltk_data]   Unzipping corpora/stopwords.zip.\n"
          ]
        }
      ]
    },
    {
      "cell_type": "code",
      "source": [
        "# Preprocess your data (tokenization, lowercase, etc.)\n",
        "from sklearn.feature_extraction.text import CountVectorizer\n",
        "features=CountVectorizer(max_features=1500)\n",
        "x=features.fit_transform(corpus).toarray()\n",
        "y=data.iloc[:,1].values"
      ],
      "metadata": {
        "id": "85YPYQ4wzkyg"
      },
      "execution_count": null,
      "outputs": []
    },
    {
      "cell_type": "code",
      "source": [
        "# Split the data into training and testing sets\n",
        "from sklearn.model_selection import train_test_split\n",
        "X_train, X_test, y_train, y_test = train_test_split(x,y, test_size=0.2, random_state=0)"
      ],
      "metadata": {
        "id": "ZuCLrDq6znbt"
      },
      "execution_count": null,
      "outputs": []
    },
    {
      "cell_type": "code",
      "source": [
        "X_train.shape,X_test.shape,y_train.shape,y_test.shape"
      ],
      "metadata": {
        "colab": {
          "base_uri": "https://localhost:8080/"
        },
        "id": "KQAKTvorzpsq",
        "outputId": "9b2eb380-6c0b-4499-e231-81b5bb5300db"
      },
      "execution_count": null,
      "outputs": [
        {
          "output_type": "execute_result",
          "data": {
            "text/plain": [
              "((800, 1500), (200, 1500), (800,), (200,))"
            ]
          },
          "metadata": {},
          "execution_count": 12
        }
      ]
    },
    {
      "cell_type": "code",
      "source": [
        "# Train a Bernouli navie bayes model\n",
        "\n",
        "from sklearn.naive_bayes import BernoulliNB\n",
        "\n",
        "#fitting the model\n",
        "model=BernoulliNB ()\n",
        "model.fit(X_train, y_train)\n",
        "\n",
        "# Transform the testing data and make predictions\n",
        "y_pred = model.predict(X_test)"
      ],
      "metadata": {
        "id": "3xo6uVXEzr8d"
      },
      "execution_count": null,
      "outputs": []
    },
    {
      "cell_type": "code",
      "source": [
        "# Evaluate the model\n",
        "from sklearn.metrics import precision_score\n",
        "from sklearn.metrics import recall_score\n",
        "from sklearn.metrics import accuracy_score\n",
        "precision=precision_score(y_test,y_pred)\n",
        "recal = recall_score(y_test,y_pred)\n",
        "accuracy = accuracy_score(y_test, y_pred)\n",
        "print(\"Accuracy:\", accuracy*100.0)\n",
        "print(\"precision:\", precision*100.0)\n",
        "print(\"recall:\", recal*100.0)"
      ],
      "metadata": {
        "colab": {
          "base_uri": "https://localhost:8080/"
        },
        "id": "CYDiwBTs0dlc",
        "outputId": "5ff3e847-5b30-407c-cbf8-8787b2442018"
      },
      "execution_count": null,
      "outputs": [
        {
          "output_type": "stream",
          "name": "stdout",
          "text": [
            "Accuracy: 77.0\n",
            "precision: 77.14285714285715\n",
            "recall: 78.64077669902912\n"
          ]
        }
      ]
    },
    {
      "cell_type": "code",
      "source": [
        "from sklearn.metrics import confusion_matrix\n",
        "con = confusion_matrix(y_test,y_pred)\n",
        "con"
      ],
      "metadata": {
        "colab": {
          "base_uri": "https://localhost:8080/"
        },
        "id": "igGzFT5N0fyu",
        "outputId": "5d47172f-611e-475c-fd6d-51e90a05215c"
      },
      "execution_count": null,
      "outputs": [
        {
          "output_type": "execute_result",
          "data": {
            "text/plain": [
              "array([[73, 24],\n",
              "       [22, 81]])"
            ]
          },
          "metadata": {},
          "execution_count": 15
        }
      ]
    },
    {
      "cell_type": "code",
      "source": [
        "import matplotlib.pyplot as pt\n",
        "import seaborn as sb\n",
        "pt.figure(figsize=(10,5))\n",
        "sb.heatmap(con,annot=True,cmap=\"summer\",xticklabels=['Negative','Positive'],yticklabels=['Negative','Positive'])\n",
        "pt.xlabel('predictted values')\n",
        "pt.ylabel('Actual values')"
      ],
      "metadata": {
        "colab": {
          "base_uri": "https://localhost:8080/",
          "height": 482
        },
        "id": "G04JQGOD0jem",
        "outputId": "6c10256c-2644-4bc6-e411-c7aa63fded4f"
      },
      "execution_count": null,
      "outputs": [
        {
          "output_type": "execute_result",
          "data": {
            "text/plain": [
              "Text(95.72222222222221, 0.5, 'Actual values')"
            ]
          },
          "metadata": {},
          "execution_count": 16
        },
        {
          "output_type": "display_data",
          "data": {
            "text/plain": [
              "<Figure size 1000x500 with 2 Axes>"
            ],
            "image/png": "[encoded data removed]"
          },
          "metadata": {}
        }
      ]
    },
    {
      "cell_type": "code",
      "source": [
        "#hyper Parameter tuning process\n",
        "import numpy as np\n",
        "best_accuracy_score = 0.0\n",
        "alpha_value =0.0\n",
        "for i in np.arange(0.0,1.0,0.1):\n",
        "  temp_model = BernoulliNB(alpha=i)\n",
        "  temp_model.fit(X_train,y_train)\n",
        "  temp_y_pred =temp_model.predict(X_test)\n",
        "  Ac_score = accuracy_score(y_test,temp_y_pred)\n",
        "\n",
        "  print(\"Accuracy score for alpha={} is {}%\".format(round(i,1),round(Ac_score*100,2)))\n",
        "  if Ac_score>best_accuracy_score:\n",
        "    best_accuracy_score=Ac_score\n",
        "    alpha_val=i\n",
        "print('This is best Accuracy score:')\n",
        "print(\"Accuracy score for alpha={} with alpha value {}%\".format(round(best_accuracy_score*100,2),round(alpha_val,2)))\n"
      ],
      "metadata": {
        "colab": {
          "base_uri": "https://localhost:8080/"
        },
        "id": "8TS2Qq7e0lTj",
        "outputId": "552d4ec5-0737-4227-96f0-3e0cea2e0e30"
      },
      "execution_count": null,
      "outputs": [
        {
          "output_type": "stream",
          "name": "stderr",
          "text": [
            "/usr/local/lib/python3.10/dist-packages/sklearn/naive_bayes.py:629: FutureWarning: The default value for `force_alpha` will change to `True` in 1.4. To suppress this warning, manually set the value of `force_alpha`.\n",
            "  warnings.warn(\n",
            "/usr/local/lib/python3.10/dist-packages/sklearn/naive_bayes.py:635: UserWarning: alpha too small will result in numeric errors, setting alpha = 1.0e-10. Use `force_alpha=True` to keep alpha unchanged.\n",
            "  warnings.warn(\n"
          ]
        },
        {
          "output_type": "stream",
          "name": "stdout",
          "text": [
            "Accuracy score for alpha=0.0 is 77.0%\n",
            "Accuracy score for alpha=0.1 is 78.5%\n",
            "Accuracy score for alpha=0.2 is 78.5%\n",
            "Accuracy score for alpha=0.3 is 79.0%\n",
            "Accuracy score for alpha=0.4 is 78.5%\n",
            "Accuracy score for alpha=0.5 is 78.0%\n",
            "Accuracy score for alpha=0.6 is 78.0%\n",
            "Accuracy score for alpha=0.7 is 78.0%\n",
            "Accuracy score for alpha=0.8 is 77.5%\n",
            "Accuracy score for alpha=0.9 is 77.0%\n",
            "This is best Accuracy score:\n",
            "Accuracy score for alpha=79.0 with alpha value 0.3%\n"
          ]
        }
      ]
    },
    {
      "cell_type": "code",
      "source": [
        "#again fit model with which have high accuracy with alpha value\n",
        "model=BernoulliNB(alpha=0.3)\n",
        "model.fit(X_train,y_train)"
      ],
      "metadata": {
        "colab": {
          "base_uri": "https://localhost:8080/",
          "height": 74
        },
        "id": "aVedQsCy0oDq",
        "outputId": "41384023-3b9b-46bc-a22a-cc85ef2bfcc7"
      },
      "execution_count": null,
      "outputs": [
        {
          "output_type": "execute_result",
          "data": {
            "text/plain": [
              "BernoulliNB(alpha=0.3)"
            ],
            "text/html": [
              "<style>#sk-container-id-1 {color: black;background-color: white;}#sk-container-id-1 pre{padding: 0;}#sk-container-id-1 div.sk-toggleable {background-color: white;}#sk-container-id-1 label.sk-toggleable__label {cursor: pointer;display: block;width: 100%;margin-bottom: 0;padding: 0.3em;box-sizing: border-box;text-align: center;}#sk-container-id-1 label.sk-toggleable__label-arrow:before {content: \"▸\";float: left;margin-right: 0.25em;color: #696969;}#sk-container-id-1 label.sk-toggleable__label-arrow:hover:before {color: black;}#sk-container-id-1 div.sk-estimator:hover label.sk-toggleable__label-arrow:before {color: black;}#sk-container-id-1 div.sk-toggleable__content {max-height: 0;max-width: 0;overflow: hidden;text-align: left;background-color: #f0f8ff;}#sk-container-id-1 div.sk-toggleable__content pre {margin: 0.2em;color: black;border-radius: 0.25em;background-color: #f0f8ff;}#sk-container-id-1 input.sk-toggleable__control:checked~div.sk-toggleable__content {max-height: 200px;max-width: 100%;overflow: auto;}#sk-container-id-1 input.sk-toggleable__control:checked~label.sk-toggleable__label-arrow:before {content: \"▾\";}#sk-container-id-1 div.sk-estimator input.sk-toggleable__control:checked~label.sk-toggleable__label {background-color: #d4ebff;}#sk-container-id-1 div.sk-label input.sk-toggleable__control:checked~label.sk-toggleable__label {background-color: #d4ebff;}#sk-container-id-1 input.sk-hidden--visually {border: 0;clip: rect(1px 1px 1px 1px);clip: rect(1px, 1px, 1px, 1px);height: 1px;margin: -1px;overflow: hidden;padding: 0;position: absolute;width: 1px;}#sk-container-id-1 div.sk-estimator {font-family: monospace;background-color: #f0f8ff;border: 1px dotted black;border-radius: 0.25em;box-sizing: border-box;margin-bottom: 0.5em;}#sk-container-id-1 div.sk-estimator:hover {background-color: #d4ebff;}#sk-container-id-1 div.sk-parallel-item::after {content: \"\";width: 100%;border-bottom: 1px solid gray;flex-grow: 1;}#sk-container-id-1 div.sk-label:hover label.sk-toggleable__label {background-color: #d4ebff;}#sk-container-id-1 div.sk-serial::before {content: \"\";position: absolute;border-left: 1px solid gray;box-sizing: border-box;top: 0;bottom: 0;left: 50%;z-index: 0;}#sk-container-id-1 div.sk-serial {display: flex;flex-direction: column;align-items: center;background-color: white;padding-right: 0.2em;padding-left: 0.2em;position: relative;}#sk-container-id-1 div.sk-item {position: relative;z-index: 1;}#sk-container-id-1 div.sk-parallel {display: flex;align-items: stretch;justify-content: center;background-color: white;position: relative;}#sk-container-id-1 div.sk-item::before, #sk-container-id-1 div.sk-parallel-item::before {content: \"\";position: absolute;border-left: 1px solid gray;box-sizing: border-box;top: 0;bottom: 0;left: 50%;z-index: -1;}#sk-container-id-1 div.sk-parallel-item {display: flex;flex-direction: column;z-index: 1;position: relative;background-color: white;}#sk-container-id-1 div.sk-parallel-item:first-child::after {align-self: flex-end;width: 50%;}#sk-container-id-1 div.sk-parallel-item:last-child::after {align-self: flex-start;width: 50%;}#sk-container-id-1 div.sk-parallel-item:only-child::after {width: 0;}#sk-container-id-1 div.sk-dashed-wrapped {border: 1px dashed gray;margin: 0 0.4em 0.5em 0.4em;box-sizing: border-box;padding-bottom: 0.4em;background-color: white;}#sk-container-id-1 div.sk-label label {font-family: monospace;font-weight: bold;display: inline-block;line-height: 1.2em;}#sk-container-id-1 div.sk-label-container {text-align: center;}#sk-container-id-1 div.sk-container {/* jupyter's `normalize.less` sets `[hidden] { display: none; }` but bootstrap.min.css set `[hidden] { display: none !important; }` so we also need the `!important` here to be able to override the default hidden behavior on the sphinx rendered scikit-learn.org. See: https://github.com/scikit-learn/scikit-learn/issues/21755 */display: inline-block !important;position: relative;}#sk-container-id-1 div.sk-text-repr-fallback {display: none;}</style><div id=\"sk-container-id-1\" class=\"sk-top-container\"><div class=\"sk-text-repr-fallback\"><pre>BernoulliNB(alpha=0.3)</pre><b>In a Jupyter environment, please rerun this cell to show the HTML representation or trust the notebook. <br />On GitHub, the HTML representation is unable to render, please try loading this page with nbviewer.org.</b></div><div class=\"sk-container\" hidden><div class=\"sk-item\"><div class=\"sk-estimator sk-toggleable\"><input class=\"sk-toggleable__control sk-hidden--visually\" id=\"sk-estimator-id-1\" type=\"checkbox\" checked><label for=\"sk-estimator-id-1\" class=\"sk-toggleable__label sk-toggleable__label-arrow\">BernoulliNB</label><div class=\"sk-toggleable__content\"><pre>BernoulliNB(alpha=0.3)</pre></div></div></div></div></div>"
            ]
          },
          "metadata": {},
          "execution_count": 18
        }
      ]
    },
    {
      "cell_type": "code",
      "source": [
        "#validation or Prediction the Review\n",
        "from nltk.stem import porter\n",
        "def predict_sentiment_review(sample_review):\n",
        "  sample_review=sample_review.lower()\n",
        "  sample_review_words = sample_review.split()\n",
        "  sample_review_words=[word for word in sample_review_words if not word in set(stopwords.words('english'))]\n",
        "  ps=PorterStemmer()\n",
        "  final_review = [ps.stem(word) for word in sample_review_words]\n",
        "  final_review= ' '.join(final_review)\n",
        "  temp=features.transform([final_review]).toarray()\n",
        "  return model.predict(temp)"
      ],
      "metadata": {
        "id": "BwM1dRlZ0q3m"
      },
      "execution_count": null,
      "outputs": []
    },
    {
      "cell_type": "code",
      "source": [
        "sample_review=input(\"enter you are review:\")\n",
        "result=predict_sentiment_review(sample_review)\n",
        "if(result):\n",
        "  print(\"this is positive review\")\n",
        "else:\n",
        "  print(\"this is negative review\")"
      ],
      "metadata": {
        "colab": {
          "base_uri": "https://localhost:8080/"
        },
        "id": "xx01H4uc0tZD",
        "outputId": "66fe9cf7-b046-4ecb-f853-37e0c5888ee3"
      },
      "execution_count": null,
      "outputs": [
        {
          "output_type": "stream",
          "name": "stdout",
          "text": [
            "enter you are review:the food smells like cow dung \n",
            "this is negative review\n"
          ]
        }
      ]
    },
    {
      "cell_type": "code",
      "source": [],
      "metadata": {
        "id": "-B8yShMx0wBt"
      },
      "execution_count": null,
      "outputs": []
    }
  ]
}